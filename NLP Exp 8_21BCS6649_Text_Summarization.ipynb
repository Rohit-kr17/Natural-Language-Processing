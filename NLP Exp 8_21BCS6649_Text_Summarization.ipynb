{
 "cells": [
  {
   "cell_type": "code",
   "execution_count": 4,
   "id": "8bed7c43",
   "metadata": {},
   "outputs": [
    {
     "name": "stdout",
     "output_type": "stream",
     "text": [
      "Extractive summarization selects the most important sentences or phrases from the original text and extracts them to form a summary. This approach is advantageous because it preserves the original wording and meaning of the text, but it may result in summaries that are less fluent or coherent.\n"
     ]
    }
   ],
   "source": [
    "import nltk\n",
    "import numpy as np\n",
    "from sklearn.feature_extraction.text import TfidfVectorizer\n",
    "from sklearn.metrics.pairwise import cosine_similarity\n",
    "import networkx as nx\n",
    "\n",
    "def generate_summary(text, num_sentences):\n",
    "    # Tokenize the text into sentences\n",
    "    sentences = nltk.sent_tokenize(text)\n",
    "    \n",
    "    # Calculate TF-IDF matrix\n",
    "    vectorizer = TfidfVectorizer(stop_words='english')\n",
    "    tfidf_matrix = vectorizer.fit_transform(sentences)\n",
    "    \n",
    "    # Compute cosine similarity between sentences\n",
    "    similarity_matrix = cosine_similarity(tfidf_matrix, tfidf_matrix)\n",
    "    \n",
    "    # Convert similarity matrix into a graph\n",
    "    similarity_graph = nx.from_numpy_array(similarity_matrix)\n",
    "    \n",
    "    # Apply PageRank algorithm to get sentence scores\n",
    "    scores = nx.pagerank(similarity_graph)\n",
    "    \n",
    "    # Sort the sentences by their scores\n",
    "    ranked_sentences = sorted(((scores[i], sentence) for i, sentence in enumerate(sentences)), reverse=True)\n",
    "    \n",
    "    # Select the top sentences to form the summary\n",
    "    summary = [sentence for score, sentence in ranked_sentences[:num_sentences]]\n",
    "    \n",
    "    return ' '.join(summary)\n",
    "\n",
    "# Example usage\n",
    "text = \"\"\"\n",
    "Automatic summarization is the process of shortening a set of data computationally, to create a subset (a summary) that represents the most important or relevant information within the original content.\n",
    "Extractive summarization selects the most important sentences or phrases from the original text and extracts them to form a summary.\n",
    "This approach is advantageous because it preserves the original wording and meaning of the text, but it may result in summaries that are less fluent or coherent.\n",
    "Abstractive summarization, on the other hand, involves generating new sentences or phrases that capture the main ideas of the original text.\n",
    "While this approach can produce more fluent summaries, it is often more challenging and may introduce errors or inaccuracies.\n",
    "\"\"\"\n",
    "summary = generate_summary(text, 2)\n",
    "print(summary)\n"
   ]
  },
  {
   "cell_type": "code",
   "execution_count": null,
   "id": "b91b87a5",
   "metadata": {},
   "outputs": [],
   "source": []
  }
 ],
 "metadata": {
  "kernelspec": {
   "display_name": "Python 3 (ipykernel)",
   "language": "python",
   "name": "python3"
  },
  "language_info": {
   "codemirror_mode": {
    "name": "ipython",
    "version": 3
   },
   "file_extension": ".py",
   "mimetype": "text/x-python",
   "name": "python",
   "nbconvert_exporter": "python",
   "pygments_lexer": "ipython3",
   "version": "3.11.5"
  }
 },
 "nbformat": 4,
 "nbformat_minor": 5
}

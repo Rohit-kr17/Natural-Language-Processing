{
 "cells": [
  {
   "cell_type": "code",
   "execution_count": 21,
   "id": "63cd5b56",
   "metadata": {},
   "outputs": [
    {
     "name": "stdout",
     "output_type": "stream",
     "text": [
      "Named Entity: Barack - Type: PERSON\n",
      "Named Entity: Obama - Type: PERSON\n",
      "Named Entity: Hawaii - Type: GPE\n",
      "Named Entity: United States - Type: GPE\n"
     ]
    }
   ],
   "source": [
    "import nltk\n",
    "from nltk.tokenize import word_tokenize\n",
    "from nltk.tag import pos_tag\n",
    "from nltk.chunk import ne_chunk\n",
    "\n",
    "# Example text\n",
    "text = \"\"\"\n",
    "Barack Obama was born in Hawaii. He was the 44th President of the United States.\n",
    "\"\"\"\n",
    "\n",
    "# Tokenize the text into words\n",
    "words = word_tokenize(text)\n",
    "\n",
    "# Perform part-of-speech tagging\n",
    "pos_tags = pos_tag(words)\n",
    "\n",
    "# Perform Named Entity Recognition\n",
    "ne_chunks = ne_chunk(pos_tags)\n",
    "\n",
    "# Display named entities\n",
    "for chunk in ne_chunks:\n",
    "    if hasattr(chunk, 'label'):\n",
    "        print(f'Named Entity: {\" \".join(c[0] for c in chunk)} - Type: {chunk.label()}')\n"
   ]
  },
  {
   "cell_type": "code",
   "execution_count": null,
   "id": "59a3413d",
   "metadata": {},
   "outputs": [],
   "source": []
  },
  {
   "cell_type": "code",
   "execution_count": null,
   "id": "bb0fff0c",
   "metadata": {},
   "outputs": [],
   "source": []
  },
  {
   "cell_type": "code",
   "execution_count": null,
   "id": "ff302c37",
   "metadata": {},
   "outputs": [],
   "source": []
  },
  {
   "cell_type": "code",
   "execution_count": null,
   "id": "9a1bde77",
   "metadata": {},
   "outputs": [],
   "source": []
  },
  {
   "cell_type": "code",
   "execution_count": null,
   "id": "f0f9471d",
   "metadata": {},
   "outputs": [],
   "source": []
  }
 ],
 "metadata": {
  "kernelspec": {
   "display_name": "Python 3 (ipykernel)",
   "language": "python",
   "name": "python3"
  },
  "language_info": {
   "codemirror_mode": {
    "name": "ipython",
    "version": 3
   },
   "file_extension": ".py",
   "mimetype": "text/x-python",
   "name": "python",
   "nbconvert_exporter": "python",
   "pygments_lexer": "ipython3",
   "version": "3.11.5"
  }
 },
 "nbformat": 4,
 "nbformat_minor": 5
}
